{
 "cells": [
  {
   "cell_type": "code",
   "execution_count": 71,
   "metadata": {},
   "outputs": [],
   "source": [
    "import numpy as np\n",
    "import pandas as pd\n",
    "import time"
   ]
  },
  {
   "cell_type": "code",
   "execution_count": 69,
   "metadata": {},
   "outputs": [],
   "source": [
    "# filename = '/neurospin/lrmn/projets/MANIAC/20190513_invivo_3/jr140117/meas_MID00102_FID06273_ns_CSGRE_stack_N320_65x32x2049.dat'\n",
    "filename = '/neurospin/lrmn/people/Aurelien_Massire/20190306/data/raw/meas_MID00210_FID01418_ns_CSGRE_stack_N384_To20_Nz73.dat'"
   ]
  },
  {
   "cell_type": "code",
   "execution_count": null,
   "metadata": {},
   "outputs": [
    {
     "name": "stdout",
     "output_type": "stream",
     "text": [
      "11 b'        <ParamLong.\"alDwellTime\"> \\n'\n",
      "11 b'        <ParamLong.\"alDwellTime\"> \\n'\n"
     ]
    }
   ],
   "source": [
    "import csv\n",
    "import re\n",
    "\n",
    "fields = ('productId', 'userId', 'profileName', 'helpfulness', 'rating', 'time', 'summary', 'text')\n",
    "line_idx = 0\n",
    "line_dwelltime = -1\n",
    "\n",
    "dwelltime_matrices = []\n",
    "found = False\n",
    "with open(filename, \"rb\") as myfile, open('x.txt','w', newline='') as fw:\n",
    "    writer = csv.DictWriter(fw, fields, delimiter='|')\n",
    "    record = {}\n",
    "    for line in myfile:\n",
    "        if line_idx > 0:\n",
    "            line = str(line)\n",
    "            result_k = line.find('ParamLong.\"alDwellTime\"')\n",
    "            if result_k >= 0:\n",
    "                line_dwelltime = line_idx\n",
    "                result_k_1 = result_k\n",
    "                print(result_k, line, line_idx)\n",
    "                time.sleep(1)\n",
    "\n",
    "#             if line_dwelltime > 0:\n",
    "#                 if line.find('}') >= 0 :\n",
    "#                     found = True\n",
    "#                 dwelltime_matrices.append(line.strip(\"'b\"))\n",
    "#                 print(dwelltime_matrices[-1])\n",
    "#             if found:\n",
    "#                 break\n",
    "\n",
    "        line_idx += 1"
   ]
  }
 ],
 "metadata": {
  "kernelspec": {
   "display_name": "Python 3",
   "language": "python",
   "name": "python3"
  },
  "language_info": {
   "codemirror_mode": {
    "name": "ipython",
    "version": 3
   },
   "file_extension": ".py",
   "mimetype": "text/x-python",
   "name": "python",
   "nbconvert_exporter": "python",
   "pygments_lexer": "ipython3",
   "version": "3.5.2"
  }
 },
 "nbformat": 4,
 "nbformat_minor": 2
}
