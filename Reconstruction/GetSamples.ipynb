{
 "cells": [
  {
   "cell_type": "code",
   "execution_count": 1,
   "metadata": {},
   "outputs": [],
   "source": [
    "import numpy as np"
   ]
  },
  {
   "cell_type": "code",
   "execution_count": 2,
   "metadata": {},
   "outputs": [],
   "source": [
    "def get_ADC_samples_coordinates(gradient_path, dwelltime, nb_ADC_samples, ndim=2, verbose=0):\n",
    "    \"\"\"This function extracts the 2D and 3D sampling scheme from the gradient\n",
    "        file, using the\tdwelltime and the number of samples.\n",
    "\n",
    "        Parameters\n",
    "        ----------\n",
    "        gradient_path: string\n",
    "            Path to the gradient.txt file that contains the points of the gradient\n",
    "        dwelltime: float\n",
    "            dwell time extracted from the header of the acquisition, in nanoseconds\n",
    "        nb_ADC_samples: int\n",
    "            Number of points taken for this acquisition\n",
    "        ndim: int\n",
    "            Number of dimension of the gradient 2D or 3D acquisition\n",
    "        verbose: int\n",
    "            Verbosity level (default 0: silent)\n",
    "        \"\"\"\n",
    "    # Load gardient file\n",
    "    file_header = np.loadtxt(gradient_path, delimiter='\\n', comments='\\t')\n",
    "    spokes_number = int(file_header[0])\n",
    "    samples_per_spoke = int(file_header[1])\n",
    "    file_content = np.loadtxt(gradient_path, delimiter='\\t', skiprows=2,\n",
    "                              ndmin=0)\n",
    "    k0 = file_content[:spokes_number]\n",
    "    grad = file_content[spokes_number:]\n",
    "    \n",
    "    # Over-sampling factor\n",
    "    OS_factor = int(nb_ADC_samples*1.0 / (samples_per_spoke*spokes_number))\n",
    "    real_samples_nb_per_spoke = OS_factor*samples_per_spoke\n",
    "    \n",
    "    \n",
    "    # Compute gradient constants\n",
    "    gradient_duration = samples_per_spoke * 0.01\n",
    "    gamma = 42.576*1e6\n",
    "    dt = 10e-6\n",
    "    dt_ns = dt * 1e9  # Gradient time step in nanoseconds\n",
    "    if verbose > 0:\n",
    "        print('Number of Spokes                      -->', spokes_number)\n",
    "        print('Number of samples / Spokes            -->', samples_per_spoke)\n",
    "        print('Dimension                             -->', k0.shape[-1])\n",
    "        print('Number of samples / Spokes in the ADC -->', real_samples_nb_per_spoke)\n",
    "        print('Gradient duration was                 -->', gradient_duration)\n",
    "        print('Gradient shape                        -->', grad.shape)\n",
    "       \n",
    "    \n",
    "    grad = grad*1e-3  # Conversion from mT/m to T/m\n",
    "\n",
    "    ## Start calcul of the ADC samples coordinates\n",
    "\n",
    "    ADC_samples = []\n",
    "    for k in range(spokes_number):\n",
    "        gradient = grad[k*samples_per_spoke:(k+1)*samples_per_spoke, :]\n",
    "        ADC_samples_k = np.zeros((real_samples_nb_per_spoke+1, ndim))\n",
    "        ADC_samples_k[0] = k0[k]\n",
    "        cnt = 1\n",
    "        for j in range(1, nb_ADC_samples):\n",
    "            ADC_time = dwelltime * j\n",
    "            q = int(np.floor(ADC_time/dt_ns))\n",
    "            r = ADC_time - (q)*dt_ns*1.0\n",
    "            cnt = 1 + cnt\n",
    "            if q < samples_per_spoke:\n",
    "                gradient_to_sum = gradient[:q]\n",
    "                ADC_samples_k[j] = ADC_samples_k[0] + (np.sum(gradient_to_sum,axis=0)*dt_ns + gradient[q,:]*r)*gamma*1e-9\n",
    "            elif q==(samples_per_spoke) and (r==0):\n",
    "                gradient_to_sum = gradient[:q, :]\n",
    "                ADC_samples_k[j, :] = ADC_samples_k[0, :] + (np.sum(gradient_to_sum, axis=0)*dt_ns)*gamma*1e-9\n",
    "            else:\n",
    "                ADC_samples_k = ADC_samples_k[:cnt - 1, :]\n",
    "                break\n",
    "        ADC_samples.append(ADC_samples_k)\n",
    "\n",
    "    return ADC_samples"
   ]
  },
  {
   "cell_type": "code",
   "execution_count": 3,
   "metadata": {},
   "outputs": [
    {
     "name": "stdout",
     "output_type": "stream",
     "text": [
      "(3, 8521760)\n"
     ]
    },
    {
     "name": "stderr",
     "output_type": "stream",
     "text": [
      "/home/le251198/.local/lib/python3.5/site-packages/h5py/__init__.py:36: FutureWarning: Conversion of the second argument of issubdtype from `float` to `np.floating` is deprecated. In future, it will be treated as `np.float64 == np.dtype(float).type`.\n",
      "  from ._conv import register_converters as _register_converters\n"
     ]
    }
   ],
   "source": [
    "dat_file = '/neurospin/lrmn/projets/MANIAC/20190513_invivo_3/jr140117/meas_MID00102_FID06273_ns_CSGRE_stack_N320_65x32x2049.dat'\n",
    "import h5py\n",
    "dwelltime=5000\n",
    "dim = 3\n",
    "if dim == 3:\n",
    "    Gradient_filename='/neurospin/lrmn/projets/MANIAC/20190513_invivo_3/jr140117/GradientFile_stack_SPARKLING_N320_nc32x2049_OS1.txt'\n",
    "    samples_matlab = h5py.File('/neurospin/lrmn/projets/MANIAC/20190513_invivo_3/jr140117/extracted_GradientFile_stack_SPARKLING_N320_nc32x2049_OS1.mat', 'r')['ADC_samples']\n",
    "    nc = 2049\n",
    "    osf = 2\n",
    "    ns = 32\n",
    "    nz = 65\n",
    "    nb_ADC_samples = nc * ns * osf * nz\n",
    "elif dim == 2:\n",
    "    Gradient_filename='/neurospin/optimed/clazarus/DATA_CODE_28092018/Data/GradientFiles_2D/Sparkling_2D_MRM_revision_invivo/XP_N512_Tobs20ms_dt2us/sparkling/GradientFile_SPARKLING_N512_nc40x2001_OS5_dec35_tau1.txt'\n",
    "    samples_matlab = h5py.File('/volatile/tmp/matlab.mat', 'r')['ADC_samples']\n",
    "    nc = 2001\n",
    "    osf = 5\n",
    "    ns = 40\n",
    "    nz = 1\n",
    "    nb_ADC_samples = nc * ns * osf * nz\n",
    "print(samples_matlab.shape)"
   ]
  },
  {
   "cell_type": "code",
   "execution_count": 4,
   "metadata": {},
   "outputs": [
    {
     "name": "stdout",
     "output_type": "stream",
     "text": [
      "Number of Spokes ------------> 2080\n",
      "Number of samples / Spokes --> 2048\n",
      "(2080, 3)\n",
      "Number of samples / Spokes --> 4096\n",
      "Gradient duration was -------> 20.48\n",
      "Gradient shape -------------> (4259840, 3)\n",
      "(2080, 4097, 3)\n",
      "-806.9067\n",
      "807.5717\n"
     ]
    }
   ],
   "source": [
    "samples = get_ADC_samples_coordinates(Gradient_filename, dwelltime, nb_ADC_samples, ndim=dim, verbose=1)\n",
    "samples_ar = np.asarray(samples)\n",
    "print(samples_ar.shape)\n",
    "print(samples_ar.min())\n",
    "print(samples_ar.max())"
   ]
  },
  {
   "cell_type": "code",
   "execution_count": 5,
   "metadata": {},
   "outputs": [],
   "source": [
    "samples_ar = np.reshape(samples_ar, (np.prod(samples_ar.shape[:2]) , dim))"
   ]
  },
  {
   "cell_type": "code",
   "execution_count": 6,
   "metadata": {},
   "outputs": [
    {
     "data": {
      "text/plain": [
       "True"
      ]
     },
     "execution_count": 6,
     "metadata": {},
     "output_type": "execute_result"
    }
   ],
   "source": [
    "np.allclose(samples_ar.T, samples_matlab)"
   ]
  },
  {
   "cell_type": "code",
   "execution_count": 7,
   "metadata": {},
   "outputs": [
    {
     "data": {
      "text/plain": [
       "0.0"
      ]
     },
     "execution_count": 7,
     "metadata": {},
     "output_type": "execute_result"
    }
   ],
   "source": [
    "np.sum(np.abs(samples_ar.T - samples_matlab)**2)"
   ]
  }
 ],
 "metadata": {
  "kernelspec": {
   "display_name": "Python 3",
   "language": "python",
   "name": "python3"
  },
  "language_info": {
   "codemirror_mode": {
    "name": "ipython",
    "version": 3
   },
   "file_extension": ".py",
   "mimetype": "text/x-python",
   "name": "python",
   "nbconvert_exporter": "python",
   "pygments_lexer": "ipython3",
   "version": "3.5.2"
  }
 },
 "nbformat": 4,
 "nbformat_minor": 2
}
